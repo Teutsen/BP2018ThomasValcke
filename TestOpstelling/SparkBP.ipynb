{
 "cells": [
  {
   "cell_type": "code",
   "execution_count": 1,
   "metadata": {},
   "outputs": [],
   "source": [
    "################################ IMPORTS ###################################\n",
    "import os\n",
    "import sys\n",
    "import pyspark\n",
    "from pyspark.sql import SparkSession\n",
    "from pyspark import SparkContext\n",
    "%matplotlib inline\n",
    "from matplotlib import pyplot as plt\n",
    "from matplotlib.dates import YearLocator, MonthLocator, DayLocator, WeekdayLocator, DateFormatter\n",
    "from dateutil.relativedelta import relativedelta\n",
    "### LINEAR REGRETION\n",
    "from pyspark.ml.regression import LinearRegression\n",
    "### RANDOM FOREST\n",
    "from pyspark.ml import Pipeline\n",
    "from pyspark.ml.classification import RandomForestClassifier\n",
    "from pyspark.ml.feature import IndexToString, StringIndexer, VectorIndexer\n",
    "from pyspark.ml.evaluation import MulticlassClassificationEvaluator\n",
    "\n"
   ]
  },
  {
   "cell_type": "code",
   "execution_count": 2,
   "metadata": {},
   "outputs": [],
   "source": [
    "SpSession = SparkSession \\\n",
    "    .builder \\\n",
    "    .master(\"local[2]\") \\\n",
    "    .appName(\"BPSpark\") \\\n",
    "    .config(\"spark.executor.memory\", \"1g\") \\\n",
    "    .config(\"spark.cores.max\",\"2\") \\\n",
    "    .config(\"spark.sql.warehouse.dir\", \"file:///c:/temp/spark-warehouse\")\\\n",
    "    .getOrCreate()"
   ]
  },
  {
   "cell_type": "code",
   "execution_count": 3,
   "metadata": {},
   "outputs": [
    {
     "name": "stdout",
     "output_type": "stream",
     "text": [
      "SparkSession already initialized\n"
     ]
    }
   ],
   "source": [
    "#Get the Spark Context from Spark Session    \n",
    "SpContext = SpSession.sparkContext\n",
    "try:\n",
    "    sc = pyspark.SparkContext(appName = 'App')\n",
    "    spark = SparkSession(sparkContext=sc)\n",
    "    print (\"SparkSession initialized\")\n",
    "except ValueError:\n",
    "    print (\"SparkSession already initialized\")"
   ]
  },
  {
   "cell_type": "code",
   "execution_count": 23,
   "metadata": {},
   "outputs": [],
   "source": [
    "################################ READ DATA ###################################\n",
    "test2 = SpSession.read.option(\"delimiter\", \";\").option(\"header\", \"true\").csv(\"D:/School/STAGE_BP/Stage_BachlerProef/datasets/jams2.csv\")"
   ]
  },
  {
   "cell_type": "code",
   "execution_count": 24,
   "metadata": {},
   "outputs": [
    {
     "name": "stdout",
     "output_type": "stream",
     "text": [
      "+----------------+----+--------------+------+-----+-----+-----+--------+---------+------------+----------+--------------------+----------------+----+----+----+----+----+----+----+----+----+\n",
      "|         PubTime|City|        Street|Length|Delay|Speed|Level|RoadType|StartNode|     EndNode|      Uuid|   BlockingAlertUuid|   RetrievalTime|_c13|_c14|_c15|_c16|_c17|_c18|_c19|_c20|_c21|\n",
      "+----------------+----+--------------+------+-----+-----+-----+--------+---------+------------+----------+--------------------+----------------+----+----+----+----+----+----+----+----+----+\n",
      "|31/10/2017 15:12| Eke|Kortebosstraat|   155|   -1|    0|    5|       1|     null|   Bosstraat|1103407095|e651a600-77c6-3f5...|11/11/2017 18:37|null|null|null|null|null|null|null|null|null|\n",
      "|31/10/2017 15:12| Eke|Kortebosstraat|   255|   -1|    0|    5|       1|     null|Vijverstraat|1094427178|e43b1cea-4797-312...|11/11/2017 18:37|null|null|null|null|null|null|null|null|null|\n",
      "+----------------+----+--------------+------+-----+-----+-----+--------+---------+------------+----------+--------------------+----------------+----+----+----+----+----+----+----+----+----+\n",
      "only showing top 2 rows\n",
      "\n"
     ]
    }
   ],
   "source": [
    "test2.show(2)"
   ]
  },
  {
   "cell_type": "code",
   "execution_count": null,
   "metadata": {},
   "outputs": [],
   "source": []
  },
  {
   "cell_type": "code",
   "execution_count": 29,
   "metadata": {},
   "outputs": [
    {
     "name": "stdout",
     "output_type": "stream",
     "text": [
      "+----+\n",
      "|City|\n",
      "+----+\n",
      "|Eke |\n",
      "|Eke |\n",
      "|Eke |\n",
      "|Eke |\n",
      "|Eke |\n",
      "|Eke |\n",
      "|Eke |\n",
      "|Eke |\n",
      "|Eke |\n",
      "|Eke |\n",
      "+----+\n",
      "only showing top 10 rows\n",
      "\n"
     ]
    }
   ],
   "source": [
    "test2.select('City').show(10,False)"
   ]
  },
  {
   "cell_type": "code",
   "execution_count": 30,
   "metadata": {},
   "outputs": [
    {
     "ename": "TypeError",
     "evalue": "'DataFrame' object is not callable",
     "output_type": "error",
     "traceback": [
      "\u001b[1;31m---------------------------------------------------------------------------\u001b[0m",
      "\u001b[1;31mTypeError\u001b[0m                                 Traceback (most recent call last)",
      "\u001b[1;32m<ipython-input-30-965cd940ac66>\u001b[0m in \u001b[0;36m<module>\u001b[1;34m()\u001b[0m\n\u001b[0;32m      3\u001b[0m \u001b[1;31m# convert RDD to dataframe\u001b[0m\u001b[1;33m\u001b[0m\u001b[1;33m\u001b[0m\u001b[0m\n\u001b[0;32m      4\u001b[0m \u001b[0mColNames\u001b[0m \u001b[1;33m=\u001b[0m \u001b[1;33m[\u001b[0m\u001b[1;34m\"City\"\u001b[0m\u001b[1;33m,\u001b[0m\u001b[1;34m\"Speed\"\u001b[0m\u001b[1;33m]\u001b[0m\u001b[1;33m\u001b[0m\u001b[0m\n\u001b[1;32m----> 5\u001b[1;33m \u001b[0mDFdataLR\u001b[0m\u001b[1;33m=\u001b[0m \u001b[0mtest2\u001b[0m\u001b[1;33m(\u001b[0m\u001b[0mColNames\u001b[0m\u001b[1;33m)\u001b[0m\u001b[1;33m\u001b[0m\u001b[0m\n\u001b[0m\u001b[0;32m      6\u001b[0m \u001b[1;31m# split data in to training and test data\u001b[0m\u001b[1;33m\u001b[0m\u001b[1;33m\u001b[0m\u001b[0m\n\u001b[0;32m      7\u001b[0m \u001b[0mtrainTestLR\u001b[0m\u001b[1;33m=\u001b[0m\u001b[0mDFdataLR\u001b[0m\u001b[1;33m.\u001b[0m\u001b[0mrandomSplit\u001b[0m\u001b[1;33m(\u001b[0m\u001b[1;33m[\u001b[0m\u001b[1;36m0.5\u001b[0m\u001b[1;33m,\u001b[0m\u001b[1;36m0.5\u001b[0m\u001b[1;33m]\u001b[0m\u001b[1;33m)\u001b[0m\u001b[1;33m\u001b[0m\u001b[0m\n",
      "\u001b[1;31mTypeError\u001b[0m: 'DataFrame' object is not callable"
     ]
    }
   ],
   "source": [
    "################################ ML ###################################\n",
    "\n",
    "# convert RDD to dataframe\n",
    "ColNames = [\"City\",\"Speed\"]\n",
    "DFdataLR= test2(ColNames)\n",
    "# split data in to training and test data\n",
    "trainTestLR=DFdataLR.randomSplit([0.5,0.5])\n",
    "trainDFLR= trainTestLR[0]\n",
    "testDFLR= trainTestLR[1]\n",
    "# LinearRegression model\n",
    "ModelLR = LinearRegression(maxIter=10, regParam=0.3, elasticNetParam=0.8)\n",
    "# train model with data\n",
    "ModelresultLR = ModelLR.fit(trainDFLR)\n",
    "# predict with test data\n",
    "PredictLR = ModelresultLR.transform(testDFLR).cashe()\n",
    "# show prediction\n",
    "predictionsLR = PredictLR.select(\"prediction\").rdd.map(lambda x: x[0])\n",
    "labels = fullPredictions.select(\"label\").rdd.map(lambda x: x[0])\n",
    "predictionzip=predictionsLR.zip(labels).collect()\n",
    "for prediction in predictionzip:\n",
    "    print(prediction)\n",
    "\n",
    "\n"
   ]
  },
  {
   "cell_type": "code",
   "execution_count": 11,
   "metadata": {},
   "outputs": [],
   "source": [
    "test = SpSession.read.json(\"D:/School/STAGE_BP/twitterBU/*.json\")"
   ]
  },
  {
   "cell_type": "code",
   "execution_count": null,
   "metadata": {},
   "outputs": [],
   "source": [
    "### RANDOM FOREST\n",
    "# Index labels, adding metadata to the label column.\n",
    "# Fit on whole dataset to include all labels in index.\n",
    "labelIndexer = StringIndexer(inputCol=\"label\", outputCol=\"indexedLabel\").fit(data)\n",
    "\n",
    "# Automatically identify categorical features, and index them.\n",
    "# Set maxCategories so features with > 4 distinct values are treated as continuous.\n",
    "featureIndexer =\\\n",
    "    VectorIndexer(inputCol=\"features\", outputCol=\"indexedFeatures\", maxCategories=4).fit(data)\n",
    "\n",
    "# Split the data into training and test sets (30% held out for testing)\n",
    "(trainingData, testData) = data.randomSplit([0.7, 0.3])\n",
    "\n",
    "# Train a RandomForest model.\n",
    "rf = RandomForestClassifier(labelCol=\"indexedLabel\", featuresCol=\"indexedFeatures\", numTrees=10)\n",
    "\n",
    "# Convert indexed labels back to original labels.\n",
    "labelConverter = IndexToString(inputCol=\"prediction\", outputCol=\"predictedLabel\",\n",
    "                               labels=labelIndexer.labels)\n",
    "\n",
    "# Chain indexers and forest in a Pipeline\n",
    "pipeline = Pipeline(stages=[labelIndexer, featureIndexer, rf, labelConverter])\n",
    "\n",
    "# Train model.  This also runs the indexers.\n",
    "model = pipeline.fit(trainingData)\n",
    "\n",
    "# Make predictions.\n",
    "predictions = model.transform(testData)\n",
    "\n",
    "# Select example rows to display.\n",
    "predictions.select(\"predictedLabel\", \"label\", \"features\").show(5)\n",
    "\n",
    "# Select (prediction, true label) and compute test error\n",
    "evaluator = MulticlassClassificationEvaluator(\n",
    "    labelCol=\"indexedLabel\", predictionCol=\"prediction\", metricName=\"accuracy\")\n",
    "accuracy = evaluator.evaluate(predictions)\n",
    "print(\"Test Error = %g\" % (1.0 - accuracy))\n",
    "\n",
    "rfModel = model.stages[2]\n",
    "print(rfModel)  # summary only"
   ]
  }
 ],
 "metadata": {
  "kernelspec": {
   "display_name": "Python 3",
   "language": "python",
   "name": "python3"
  },
  "language_info": {
   "codemirror_mode": {
    "name": "ipython",
    "version": 3
   },
   "file_extension": ".py",
   "mimetype": "text/x-python",
   "name": "python",
   "nbconvert_exporter": "python",
   "pygments_lexer": "ipython3",
   "version": "3.6.4"
  }
 },
 "nbformat": 4,
 "nbformat_minor": 2
}
